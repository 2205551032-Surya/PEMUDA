{
  "nbformat": 4,
  "nbformat_minor": 0,
  "metadata": {
    "colab": {
      "provenance": []
    },
    "kernelspec": {
      "name": "python3",
      "display_name": "Python 3"
    },
    "language_info": {
      "name": "python"
    }
  },
  "cells": [
    {
      "cell_type": "markdown",
      "source": [
        "# Job Recommendation Model: Skill and Region-Based Matching\n",
        "\n",
        "A TensorFlow-powered model that uses LSTM networks and embeddings to recommend jobs based on a user's skills and preferred region, ensuring personalized and accurate job matching."
      ],
      "metadata": {
        "id": "Pa34Xvdmga04"
      }
    },
    {
      "cell_type": "markdown",
      "source": [
        "## **1st Step: Install the Library**\n",
        "\n",
        "Install all necessary libraries to start using this model.\n",
        "\n",
        "We use `Pandas`, `NumPy`, `TensorFlow`, `matplotlib`.`pyplot`, and `sklearn`."
      ],
      "metadata": {
        "id": "Qlu72-LmjNoi"
      }
    },
    {
      "cell_type": "code",
      "source": [
        "import numpy as np\n",
        "from tensorflow.keras.models import Model\n",
        "from tensorflow.keras.layers import Input, Embedding, LSTM, Dense, Concatenate\n",
        "from tensorflow.keras.preprocessing.text import Tokenizer\n",
        "from tensorflow.keras.preprocessing.sequence import pad_sequences\n",
        "import pandas as pd\n",
        "import json"
      ],
      "metadata": {
        "id": "r07ztdjPu9Ly"
      },
      "execution_count": 1,
      "outputs": []
    },
    {
      "cell_type": "markdown",
      "source": [
        "## **2nd Step: Get The Dataset**\n",
        "Get the dataset from GitHub\n",
        "\n",
        "We need 3 dataset such as `job_offer.csv`, `company.csv`, `regency.csv`\n",
        "\n",
        "3 dataset that contain dummy data to train the model"
      ],
      "metadata": {
        "id": "BRNgIEWegm2o"
      }
    },
    {
      "cell_type": "code",
      "source": [
        "# Load datasets from GitHub\n",
        "job_offer_df = pd.read_csv('https://raw.githubusercontent.com/MadRapz/Machine-Learning-PEMUDA/refs/heads/main/Dataset/job_offer9.csv')\n",
        "company_df = pd.read_csv('https://raw.githubusercontent.com/MadRapz/Machine-Learning-PEMUDA/refs/heads/main/Dataset/company.csv')\n",
        "regency_df = pd.read_csv('https://raw.githubusercontent.com/MadRapz/Machine-Learning-PEMUDA/refs/heads/main/Dataset/regency.csv')\n",
        "\n",
        "# Merge datasets\n",
        "df = job_offer_df.merge(\n",
        "    regency_df, on='id_regency', how='left'\n",
        ").merge(\n",
        "    company_df[['id_company', 'name_company']], on='id_company', how='left'\n",
        ")\n",
        "\n",
        "# Display the merged DataFrame\n",
        "print(\"Merged Dataset Sample:\")\n",
        "print(df.head())"
      ],
      "metadata": {
        "colab": {
          "base_uri": "https://localhost:8080/"
        },
        "id": "F6kYGSPfg0Kt",
        "outputId": "ea30b4db-7266-4e98-e899-098bcc876975"
      },
      "execution_count": 4,
      "outputs": [
        {
          "output_type": "stream",
          "name": "stdout",
          "text": [
            "Merged Dataset Sample:\n",
            "   id_job_offer           position  id_regency   job_type  \\\n",
            "0             1     UI/UX Designer           7  Full-Time   \n",
            "1             2  Marketing Manager           6  Full-Time   \n",
            "2             3  Software Engineer           6  Full-Time   \n",
            "3             4        QA Engineer           5  Freelance   \n",
            "4             5  Software Engineer           5  Full-Time   \n",
            "\n",
            "                                             summary  id_company  \\\n",
            "0  Responsible for the ui/ux designer in the tech...          65   \n",
            "1           Driving excellence in the retail market.          13   \n",
            "2  Responsible for the software engineer in the m...          43   \n",
            "3  Responsible for the qa engineer in the educati...          91   \n",
            "4  Responsible for the software engineer in the f...          14   \n",
            "\n",
            "                                           req_skill regency_name  \\\n",
            "0  Figma , Adobe XD , Sketch, HTML , CSS , Typogr...   Karangasem   \n",
            "1  Strategic Thinking, Digital Marketing Expertis...     Jembrana   \n",
            "2  Software Architecture , Design Patterns, Java,...     Jembrana   \n",
            "3  Testing Frameworks Selenium , Testing Framewor...      Gianyar   \n",
            "4  Software Architecture , Design Patterns, Java,...      Gianyar   \n",
            "\n",
            "           name_company  \n",
            "0  PT Cipta Karya Abadi  \n",
            "1    PT Indotech Global  \n",
            "2         PT Jaya Mulya  \n",
            "3  PT Cipta Karya Abadi  \n",
            "4    PT Indotech Global  \n"
          ]
        }
      ]
    },
    {
      "cell_type": "markdown",
      "source": [
        "## **3rd Step: Tokenize and Pad Input Data**\n",
        "Convert the `skills` and `regency` text columns into numerical sequences using tokenization and apply padding to ensure uniform sequence lengths."
      ],
      "metadata": {
        "id": "lRetEM6hkCNe"
      }
    },
    {
      "cell_type": "code",
      "source": [
        "# Handle missing values for skills and regency\n",
        "df['skills'] = df['req_skill'].fillna('')\n",
        "df['regency'] = df['regency_name'].fillna('')\n",
        "\n",
        "# Tokenize and pad skills\n",
        "tokenizer_skill = Tokenizer()\n",
        "tokenizer_skill.fit_on_texts(df['skills'])\n",
        "skill_sequences = tokenizer_skill.texts_to_sequences(df['skills'])\n",
        "skill_max_len = max([len(x) for x in skill_sequences])\n",
        "skill_padded = pad_sequences(skill_sequences, maxlen=skill_max_len, padding='post')\n",
        "\n",
        "# Tokenize and pad regency\n",
        "tokenizer_regency = Tokenizer()\n",
        "tokenizer_regency.fit_on_texts(df['regency'])\n",
        "regency_sequences = tokenizer_regency.texts_to_sequences(df['regency'])\n",
        "regency_max_len = max([len(x) for x in regency_sequences])\n",
        "regency_padded = pad_sequences(regency_sequences, maxlen=regency_max_len, padding='post')\n",
        "\n",
        "# Display samples\n",
        "print(\"Tokenized Skills Sample:\", skill_sequences[:5])\n",
        "print(\"Padded Skills Sample:\", skill_padded[:5])\n",
        "print(\"\\nTokenized Regency Sample:\", regency_sequences[:5])\n",
        "print(\"Padded Regency Sample:\", regency_padded[:5])"
      ],
      "metadata": {
        "colab": {
          "base_uri": "https://localhost:8080/"
        },
        "id": "gRkwCLVJj1-F",
        "outputId": "e836bb9d-587c-42a6-fd2e-0b44c14b86ee"
      },
      "execution_count": 5,
      "outputs": [
        {
          "output_type": "stream",
          "name": "stdout",
          "text": [
            "Tokenized Skills Sample: [[33, 9, 34, 35, 5, 6, 36, 37, 38], [44, 18, 45, 46, 47, 19, 31, 48, 49, 50, 51, 52, 53, 2, 30, 2, 32, 54, 2, 55, 56, 2], [21, 102, 103, 104, 4, 105, 12, 12, 3, 14, 6, 5, 10, 26, 1, 23, 106, 107], [1, 8, 57, 1, 8, 58, 59, 1, 60, 1, 61, 62, 63, 64, 18], [21, 102, 103, 104, 4, 105, 12, 12, 3, 14, 6, 5, 10, 26, 1, 23, 106, 107]]\n",
            "Padded Skills Sample: [[ 33   9  34  35   5   6  36  37  38   0   0   0   0   0   0   0   0   0\n",
            "    0   0   0   0   0   0   0   0]\n",
            " [ 44  18  45  46  47  19  31  48  49  50  51  52  53   2  30   2  32  54\n",
            "    2  55  56   2   0   0   0   0]\n",
            " [ 21 102 103 104   4 105  12  12   3  14   6   5  10  26   1  23 106 107\n",
            "    0   0   0   0   0   0   0   0]\n",
            " [  1   8  57   1   8  58  59   1  60   1  61  62  63  64  18   0   0   0\n",
            "    0   0   0   0   0   0   0   0]\n",
            " [ 21 102 103 104   4 105  12  12   3  14   6   5  10  26   1  23 106 107\n",
            "    0   0   0   0   0   0   0   0]]\n",
            "\n",
            "Tokenized Regency Sample: [[5], [8], [8], [1], [1]]\n",
            "Padded Regency Sample: [[5]\n",
            " [8]\n",
            " [8]\n",
            " [1]\n",
            " [1]]\n"
          ]
        }
      ]
    },
    {
      "cell_type": "markdown",
      "source": [
        "## **4th Step: Define the Model Architecture**\n",
        "\n",
        "The model processes `skills` and `regency` inputs using `Embedding` and `LSTM` layers to capture relationships within the data. These outputs are combined and passed through a Dense layer to predict job recommendations based on both inputs."
      ],
      "metadata": {
        "id": "3eARhNwAljYA"
      }
    },
    {
      "cell_type": "code",
      "source": [
        "# Define input layers\n",
        "skill_input = Input(shape=(skill_max_len,), name='skill_input')\n",
        "regency_input = Input(shape=(regency_max_len,), name='regency_input')\n",
        "\n",
        "# Embedding layers\n",
        "skill_embedding = Embedding(input_dim=len(tokenizer_skill.word_index) + 1, output_dim=50, name='skill_embedding')(skill_input)\n",
        "regency_embedding = Embedding(input_dim=len(tokenizer_regency.word_index) + 1, output_dim=50, name='regency_embedding')(regency_input)\n",
        "\n",
        "# LSTM layers\n",
        "skill_lstm = LSTM(100, name='skill_lstm')(skill_embedding)\n",
        "regency_lstm = LSTM(100, name='regency_lstm')(regency_embedding)\n",
        "\n",
        "# Concatenate outputs\n",
        "combined = Concatenate(name='concatenate_layer')([skill_lstm, regency_lstm])\n",
        "\n",
        "# Dense output layer\n",
        "output = Dense(len(tokenizer_skill.word_index) + 1, activation='softmax', name='output')(combined)\n",
        "\n",
        "# Define the model\n",
        "model = Model(inputs=[skill_input, regency_input], outputs=output, name='job_recommendation_model')\n",
        "\n",
        "# Compile the model\n",
        "model.compile(optimizer='adam', loss='categorical_crossentropy', metrics=['accuracy'])\n",
        "\n",
        "# Display model summary\n",
        "model.summary()"
      ],
      "metadata": {
        "colab": {
          "base_uri": "https://localhost:8080/",
          "height": 449
        },
        "id": "zXvgmPDykRDZ",
        "outputId": "c0f6a778-b07c-412e-e360-66de9d5e4b72"
      },
      "execution_count": 6,
      "outputs": [
        {
          "output_type": "display_data",
          "data": {
            "text/plain": [
              "\u001b[1mModel: \"job_recommendation_model\"\u001b[0m\n"
            ],
            "text/html": [
              "<pre style=\"white-space:pre;overflow-x:auto;line-height:normal;font-family:Menlo,'DejaVu Sans Mono',consolas,'Courier New',monospace\"><span style=\"font-weight: bold\">Model: \"job_recommendation_model\"</span>\n",
              "</pre>\n"
            ]
          },
          "metadata": {}
        },
        {
          "output_type": "display_data",
          "data": {
            "text/plain": [
              "┏━━━━━━━━━━━━━━━━━━━━━━━━━━━┳━━━━━━━━━━━━━━━━━━━━━━━━┳━━━━━━━━━━━━━━━━┳━━━━━━━━━━━━━━━━━━━━━━━━┓\n",
              "┃\u001b[1m \u001b[0m\u001b[1mLayer (type)             \u001b[0m\u001b[1m \u001b[0m┃\u001b[1m \u001b[0m\u001b[1mOutput Shape          \u001b[0m\u001b[1m \u001b[0m┃\u001b[1m \u001b[0m\u001b[1m       Param #\u001b[0m\u001b[1m \u001b[0m┃\u001b[1m \u001b[0m\u001b[1mConnected to          \u001b[0m\u001b[1m \u001b[0m┃\n",
              "┡━━━━━━━━━━━━━━━━━━━━━━━━━━━╇━━━━━━━━━━━━━━━━━━━━━━━━╇━━━━━━━━━━━━━━━━╇━━━━━━━━━━━━━━━━━━━━━━━━┩\n",
              "│ skill_input (\u001b[38;5;33mInputLayer\u001b[0m)  │ (\u001b[38;5;45mNone\u001b[0m, \u001b[38;5;34m26\u001b[0m)             │              \u001b[38;5;34m0\u001b[0m │ -                      │\n",
              "├───────────────────────────┼────────────────────────┼────────────────┼────────────────────────┤\n",
              "│ regency_input             │ (\u001b[38;5;45mNone\u001b[0m, \u001b[38;5;34m1\u001b[0m)              │              \u001b[38;5;34m0\u001b[0m │ -                      │\n",
              "│ (\u001b[38;5;33mInputLayer\u001b[0m)              │                        │                │                        │\n",
              "├───────────────────────────┼────────────────────────┼────────────────┼────────────────────────┤\n",
              "│ skill_embedding           │ (\u001b[38;5;45mNone\u001b[0m, \u001b[38;5;34m26\u001b[0m, \u001b[38;5;34m50\u001b[0m)         │          \u001b[38;5;34m7,750\u001b[0m │ skill_input[\u001b[38;5;34m0\u001b[0m][\u001b[38;5;34m0\u001b[0m]      │\n",
              "│ (\u001b[38;5;33mEmbedding\u001b[0m)               │                        │                │                        │\n",
              "├───────────────────────────┼────────────────────────┼────────────────┼────────────────────────┤\n",
              "│ regency_embedding         │ (\u001b[38;5;45mNone\u001b[0m, \u001b[38;5;34m1\u001b[0m, \u001b[38;5;34m50\u001b[0m)          │            \u001b[38;5;34m500\u001b[0m │ regency_input[\u001b[38;5;34m0\u001b[0m][\u001b[38;5;34m0\u001b[0m]    │\n",
              "│ (\u001b[38;5;33mEmbedding\u001b[0m)               │                        │                │                        │\n",
              "├───────────────────────────┼────────────────────────┼────────────────┼────────────────────────┤\n",
              "│ skill_lstm (\u001b[38;5;33mLSTM\u001b[0m)         │ (\u001b[38;5;45mNone\u001b[0m, \u001b[38;5;34m100\u001b[0m)            │         \u001b[38;5;34m60,400\u001b[0m │ skill_embedding[\u001b[38;5;34m0\u001b[0m][\u001b[38;5;34m0\u001b[0m]  │\n",
              "├───────────────────────────┼────────────────────────┼────────────────┼────────────────────────┤\n",
              "│ regency_lstm (\u001b[38;5;33mLSTM\u001b[0m)       │ (\u001b[38;5;45mNone\u001b[0m, \u001b[38;5;34m100\u001b[0m)            │         \u001b[38;5;34m60,400\u001b[0m │ regency_embedding[\u001b[38;5;34m0\u001b[0m][\u001b[38;5;34m…\u001b[0m │\n",
              "├───────────────────────────┼────────────────────────┼────────────────┼────────────────────────┤\n",
              "│ concatenate_layer         │ (\u001b[38;5;45mNone\u001b[0m, \u001b[38;5;34m200\u001b[0m)            │              \u001b[38;5;34m0\u001b[0m │ skill_lstm[\u001b[38;5;34m0\u001b[0m][\u001b[38;5;34m0\u001b[0m],      │\n",
              "│ (\u001b[38;5;33mConcatenate\u001b[0m)             │                        │                │ regency_lstm[\u001b[38;5;34m0\u001b[0m][\u001b[38;5;34m0\u001b[0m]     │\n",
              "├───────────────────────────┼────────────────────────┼────────────────┼────────────────────────┤\n",
              "│ output (\u001b[38;5;33mDense\u001b[0m)            │ (\u001b[38;5;45mNone\u001b[0m, \u001b[38;5;34m155\u001b[0m)            │         \u001b[38;5;34m31,155\u001b[0m │ concatenate_layer[\u001b[38;5;34m0\u001b[0m][\u001b[38;5;34m…\u001b[0m │\n",
              "└───────────────────────────┴────────────────────────┴────────────────┴────────────────────────┘\n"
            ],
            "text/html": [
              "<pre style=\"white-space:pre;overflow-x:auto;line-height:normal;font-family:Menlo,'DejaVu Sans Mono',consolas,'Courier New',monospace\">┏━━━━━━━━━━━━━━━━━━━━━━━━━━━┳━━━━━━━━━━━━━━━━━━━━━━━━┳━━━━━━━━━━━━━━━━┳━━━━━━━━━━━━━━━━━━━━━━━━┓\n",
              "┃<span style=\"font-weight: bold\"> Layer (type)              </span>┃<span style=\"font-weight: bold\"> Output Shape           </span>┃<span style=\"font-weight: bold\">        Param # </span>┃<span style=\"font-weight: bold\"> Connected to           </span>┃\n",
              "┡━━━━━━━━━━━━━━━━━━━━━━━━━━━╇━━━━━━━━━━━━━━━━━━━━━━━━╇━━━━━━━━━━━━━━━━╇━━━━━━━━━━━━━━━━━━━━━━━━┩\n",
              "│ skill_input (<span style=\"color: #0087ff; text-decoration-color: #0087ff\">InputLayer</span>)  │ (<span style=\"color: #00d7ff; text-decoration-color: #00d7ff\">None</span>, <span style=\"color: #00af00; text-decoration-color: #00af00\">26</span>)             │              <span style=\"color: #00af00; text-decoration-color: #00af00\">0</span> │ -                      │\n",
              "├───────────────────────────┼────────────────────────┼────────────────┼────────────────────────┤\n",
              "│ regency_input             │ (<span style=\"color: #00d7ff; text-decoration-color: #00d7ff\">None</span>, <span style=\"color: #00af00; text-decoration-color: #00af00\">1</span>)              │              <span style=\"color: #00af00; text-decoration-color: #00af00\">0</span> │ -                      │\n",
              "│ (<span style=\"color: #0087ff; text-decoration-color: #0087ff\">InputLayer</span>)              │                        │                │                        │\n",
              "├───────────────────────────┼────────────────────────┼────────────────┼────────────────────────┤\n",
              "│ skill_embedding           │ (<span style=\"color: #00d7ff; text-decoration-color: #00d7ff\">None</span>, <span style=\"color: #00af00; text-decoration-color: #00af00\">26</span>, <span style=\"color: #00af00; text-decoration-color: #00af00\">50</span>)         │          <span style=\"color: #00af00; text-decoration-color: #00af00\">7,750</span> │ skill_input[<span style=\"color: #00af00; text-decoration-color: #00af00\">0</span>][<span style=\"color: #00af00; text-decoration-color: #00af00\">0</span>]      │\n",
              "│ (<span style=\"color: #0087ff; text-decoration-color: #0087ff\">Embedding</span>)               │                        │                │                        │\n",
              "├───────────────────────────┼────────────────────────┼────────────────┼────────────────────────┤\n",
              "│ regency_embedding         │ (<span style=\"color: #00d7ff; text-decoration-color: #00d7ff\">None</span>, <span style=\"color: #00af00; text-decoration-color: #00af00\">1</span>, <span style=\"color: #00af00; text-decoration-color: #00af00\">50</span>)          │            <span style=\"color: #00af00; text-decoration-color: #00af00\">500</span> │ regency_input[<span style=\"color: #00af00; text-decoration-color: #00af00\">0</span>][<span style=\"color: #00af00; text-decoration-color: #00af00\">0</span>]    │\n",
              "│ (<span style=\"color: #0087ff; text-decoration-color: #0087ff\">Embedding</span>)               │                        │                │                        │\n",
              "├───────────────────────────┼────────────────────────┼────────────────┼────────────────────────┤\n",
              "│ skill_lstm (<span style=\"color: #0087ff; text-decoration-color: #0087ff\">LSTM</span>)         │ (<span style=\"color: #00d7ff; text-decoration-color: #00d7ff\">None</span>, <span style=\"color: #00af00; text-decoration-color: #00af00\">100</span>)            │         <span style=\"color: #00af00; text-decoration-color: #00af00\">60,400</span> │ skill_embedding[<span style=\"color: #00af00; text-decoration-color: #00af00\">0</span>][<span style=\"color: #00af00; text-decoration-color: #00af00\">0</span>]  │\n",
              "├───────────────────────────┼────────────────────────┼────────────────┼────────────────────────┤\n",
              "│ regency_lstm (<span style=\"color: #0087ff; text-decoration-color: #0087ff\">LSTM</span>)       │ (<span style=\"color: #00d7ff; text-decoration-color: #00d7ff\">None</span>, <span style=\"color: #00af00; text-decoration-color: #00af00\">100</span>)            │         <span style=\"color: #00af00; text-decoration-color: #00af00\">60,400</span> │ regency_embedding[<span style=\"color: #00af00; text-decoration-color: #00af00\">0</span>][<span style=\"color: #00af00; text-decoration-color: #00af00\">…</span> │\n",
              "├───────────────────────────┼────────────────────────┼────────────────┼────────────────────────┤\n",
              "│ concatenate_layer         │ (<span style=\"color: #00d7ff; text-decoration-color: #00d7ff\">None</span>, <span style=\"color: #00af00; text-decoration-color: #00af00\">200</span>)            │              <span style=\"color: #00af00; text-decoration-color: #00af00\">0</span> │ skill_lstm[<span style=\"color: #00af00; text-decoration-color: #00af00\">0</span>][<span style=\"color: #00af00; text-decoration-color: #00af00\">0</span>],      │\n",
              "│ (<span style=\"color: #0087ff; text-decoration-color: #0087ff\">Concatenate</span>)             │                        │                │ regency_lstm[<span style=\"color: #00af00; text-decoration-color: #00af00\">0</span>][<span style=\"color: #00af00; text-decoration-color: #00af00\">0</span>]     │\n",
              "├───────────────────────────┼────────────────────────┼────────────────┼────────────────────────┤\n",
              "│ output (<span style=\"color: #0087ff; text-decoration-color: #0087ff\">Dense</span>)            │ (<span style=\"color: #00d7ff; text-decoration-color: #00d7ff\">None</span>, <span style=\"color: #00af00; text-decoration-color: #00af00\">155</span>)            │         <span style=\"color: #00af00; text-decoration-color: #00af00\">31,155</span> │ concatenate_layer[<span style=\"color: #00af00; text-decoration-color: #00af00\">0</span>][<span style=\"color: #00af00; text-decoration-color: #00af00\">…</span> │\n",
              "└───────────────────────────┴────────────────────────┴────────────────┴────────────────────────┘\n",
              "</pre>\n"
            ]
          },
          "metadata": {}
        },
        {
          "output_type": "display_data",
          "data": {
            "text/plain": [
              "\u001b[1m Total params: \u001b[0m\u001b[38;5;34m160,205\u001b[0m (625.80 KB)\n"
            ],
            "text/html": [
              "<pre style=\"white-space:pre;overflow-x:auto;line-height:normal;font-family:Menlo,'DejaVu Sans Mono',consolas,'Courier New',monospace\"><span style=\"font-weight: bold\"> Total params: </span><span style=\"color: #00af00; text-decoration-color: #00af00\">160,205</span> (625.80 KB)\n",
              "</pre>\n"
            ]
          },
          "metadata": {}
        },
        {
          "output_type": "display_data",
          "data": {
            "text/plain": [
              "\u001b[1m Trainable params: \u001b[0m\u001b[38;5;34m160,205\u001b[0m (625.80 KB)\n"
            ],
            "text/html": [
              "<pre style=\"white-space:pre;overflow-x:auto;line-height:normal;font-family:Menlo,'DejaVu Sans Mono',consolas,'Courier New',monospace\"><span style=\"font-weight: bold\"> Trainable params: </span><span style=\"color: #00af00; text-decoration-color: #00af00\">160,205</span> (625.80 KB)\n",
              "</pre>\n"
            ]
          },
          "metadata": {}
        },
        {
          "output_type": "display_data",
          "data": {
            "text/plain": [
              "\u001b[1m Non-trainable params: \u001b[0m\u001b[38;5;34m0\u001b[0m (0.00 B)\n"
            ],
            "text/html": [
              "<pre style=\"white-space:pre;overflow-x:auto;line-height:normal;font-family:Menlo,'DejaVu Sans Mono',consolas,'Courier New',monospace\"><span style=\"font-weight: bold\"> Non-trainable params: </span><span style=\"color: #00af00; text-decoration-color: #00af00\">0</span> (0.00 B)\n",
              "</pre>\n"
            ]
          },
          "metadata": {}
        }
      ]
    },
    {
      "cell_type": "markdown",
      "source": [
        "## **5th Step: Prepare Labels and Train the Model**\n",
        "\n",
        "Align the input data and prepare the labels for training. The model learns to predict the next token in the skills sequence based on the given input."
      ],
      "metadata": {
        "id": "0Hf0zh6Ll-p7"
      }
    },
    {
      "cell_type": "code",
      "source": [
        "# Prepare labels (target values) from the last token in each skill sequence\n",
        "y = []\n",
        "for seq in skill_sequences:\n",
        "    if len(seq) > 1:\n",
        "        y.append(seq[-1])  # Take the last token as the target\n",
        "\n",
        "# Convert labels to one-hot encoding\n",
        "y = np.eye(len(tokenizer_skill.word_index) + 1)[y]\n",
        "\n",
        "# Align inputs with labels\n",
        "skill_padded = skill_padded[:len(y)]\n",
        "regency_padded = regency_padded[:len(y)]"
      ],
      "metadata": {
        "id": "-7y5krEvl2uW"
      },
      "execution_count": 9,
      "outputs": []
    },
    {
      "cell_type": "markdown",
      "source": [
        "## **Step 7: Train the Model**\n",
        "Split data into training and validation sets, then train the model."
      ],
      "metadata": {
        "id": "hEAlsg2Sm6zu"
      }
    },
    {
      "cell_type": "code",
      "source": [
        "from sklearn.model_selection import train_test_split\n",
        "\n",
        "# Split data into training and validation sets\n",
        "X_train_skill, X_val_skill, X_train_regency, X_val_regency, y_train, y_val = train_test_split(\n",
        "    skill_padded, regency_padded, y, test_size=0.2, random_state=42\n",
        ")\n",
        "\n",
        "# Train the model and save history\n",
        "history = model.fit(\n",
        "    [X_train_skill, X_train_regency], y_train,\n",
        "    validation_data=([X_val_skill, X_val_regency], y_val),\n",
        "    epochs=20, verbose=1\n",
        ")"
      ],
      "metadata": {
        "colab": {
          "base_uri": "https://localhost:8080/"
        },
        "id": "1hQVUZPCmRsd",
        "outputId": "5ff95d9b-efd0-4600-f2f7-184cac2cd9c4"
      },
      "execution_count": 10,
      "outputs": [
        {
          "output_type": "stream",
          "name": "stdout",
          "text": [
            "Epoch 1/20\n",
            "\u001b[1m11/11\u001b[0m \u001b[32m━━━━━━━━━━━━━━━━━━━━\u001b[0m\u001b[37m\u001b[0m \u001b[1m1s\u001b[0m 71ms/step - accuracy: 0.8566 - loss: 0.5670 - val_accuracy: 0.8353 - val_loss: 0.6306\n",
            "Epoch 2/20\n",
            "\u001b[1m11/11\u001b[0m \u001b[32m━━━━━━━━━━━━━━━━━━━━\u001b[0m\u001b[37m\u001b[0m \u001b[1m0s\u001b[0m 25ms/step - accuracy: 0.8003 - loss: 0.6742 - val_accuracy: 0.8235 - val_loss: 0.6202\n",
            "Epoch 3/20\n",
            "\u001b[1m11/11\u001b[0m \u001b[32m━━━━━━━━━━━━━━━━━━━━\u001b[0m\u001b[37m\u001b[0m \u001b[1m0s\u001b[0m 24ms/step - accuracy: 0.8934 - loss: 0.5336 - val_accuracy: 0.8353 - val_loss: 0.5629\n",
            "Epoch 4/20\n",
            "\u001b[1m11/11\u001b[0m \u001b[32m━━━━━━━━━━━━━━━━━━━━\u001b[0m\u001b[37m\u001b[0m \u001b[1m0s\u001b[0m 25ms/step - accuracy: 0.9068 - loss: 0.4696 - val_accuracy: 0.8588 - val_loss: 0.5008\n",
            "Epoch 5/20\n",
            "\u001b[1m11/11\u001b[0m \u001b[32m━━━━━━━━━━━━━━━━━━━━\u001b[0m\u001b[37m\u001b[0m \u001b[1m0s\u001b[0m 25ms/step - accuracy: 0.9073 - loss: 0.4174 - val_accuracy: 0.8824 - val_loss: 0.4421\n",
            "Epoch 6/20\n",
            "\u001b[1m11/11\u001b[0m \u001b[32m━━━━━━━━━━━━━━━━━━━━\u001b[0m\u001b[37m\u001b[0m \u001b[1m0s\u001b[0m 25ms/step - accuracy: 0.9312 - loss: 0.3844 - val_accuracy: 0.9059 - val_loss: 0.3924\n",
            "Epoch 7/20\n",
            "\u001b[1m11/11\u001b[0m \u001b[32m━━━━━━━━━━━━━━━━━━━━\u001b[0m\u001b[37m\u001b[0m \u001b[1m0s\u001b[0m 26ms/step - accuracy: 0.9411 - loss: 0.3431 - val_accuracy: 0.9412 - val_loss: 0.3531\n",
            "Epoch 8/20\n",
            "\u001b[1m11/11\u001b[0m \u001b[32m━━━━━━━━━━━━━━━━━━━━\u001b[0m\u001b[37m\u001b[0m \u001b[1m0s\u001b[0m 25ms/step - accuracy: 0.9404 - loss: 0.3124 - val_accuracy: 1.0000 - val_loss: 0.3230\n",
            "Epoch 9/20\n",
            "\u001b[1m11/11\u001b[0m \u001b[32m━━━━━━━━━━━━━━━━━━━━\u001b[0m\u001b[37m\u001b[0m \u001b[1m0s\u001b[0m 25ms/step - accuracy: 0.9591 - loss: 0.3044 - val_accuracy: 1.0000 - val_loss: 0.3021\n",
            "Epoch 10/20\n",
            "\u001b[1m11/11\u001b[0m \u001b[32m━━━━━━━━━━━━━━━━━━━━\u001b[0m\u001b[37m\u001b[0m \u001b[1m0s\u001b[0m 24ms/step - accuracy: 0.9626 - loss: 0.2751 - val_accuracy: 1.0000 - val_loss: 0.2802\n",
            "Epoch 11/20\n",
            "\u001b[1m11/11\u001b[0m \u001b[32m━━━━━━━━━━━━━━━━━━━━\u001b[0m\u001b[37m\u001b[0m \u001b[1m0s\u001b[0m 26ms/step - accuracy: 0.9710 - loss: 0.2442 - val_accuracy: 1.0000 - val_loss: 0.2630\n",
            "Epoch 12/20\n",
            "\u001b[1m11/11\u001b[0m \u001b[32m━━━━━━━━━━━━━━━━━━━━\u001b[0m\u001b[37m\u001b[0m \u001b[1m0s\u001b[0m 24ms/step - accuracy: 0.9726 - loss: 0.2071 - val_accuracy: 1.0000 - val_loss: 0.2479\n",
            "Epoch 13/20\n",
            "\u001b[1m11/11\u001b[0m \u001b[32m━━━━━━━━━━━━━━━━━━━━\u001b[0m\u001b[37m\u001b[0m \u001b[1m0s\u001b[0m 24ms/step - accuracy: 0.9716 - loss: 0.2051 - val_accuracy: 1.0000 - val_loss: 0.2340\n",
            "Epoch 14/20\n",
            "\u001b[1m11/11\u001b[0m \u001b[32m━━━━━━━━━━━━━━━━━━━━\u001b[0m\u001b[37m\u001b[0m \u001b[1m0s\u001b[0m 25ms/step - accuracy: 0.9751 - loss: 0.2011 - val_accuracy: 1.0000 - val_loss: 0.2223\n",
            "Epoch 15/20\n",
            "\u001b[1m11/11\u001b[0m \u001b[32m━━━━━━━━━━━━━━━━━━━━\u001b[0m\u001b[37m\u001b[0m \u001b[1m0s\u001b[0m 25ms/step - accuracy: 0.9854 - loss: 0.1923 - val_accuracy: 1.0000 - val_loss: 0.2084\n",
            "Epoch 16/20\n",
            "\u001b[1m11/11\u001b[0m \u001b[32m━━━━━━━━━━━━━━━━━━━━\u001b[0m\u001b[37m\u001b[0m \u001b[1m0s\u001b[0m 24ms/step - accuracy: 0.9825 - loss: 0.1685 - val_accuracy: 1.0000 - val_loss: 0.2035\n",
            "Epoch 17/20\n",
            "\u001b[1m11/11\u001b[0m \u001b[32m━━━━━━━━━━━━━━━━━━━━\u001b[0m\u001b[37m\u001b[0m \u001b[1m0s\u001b[0m 26ms/step - accuracy: 0.9850 - loss: 0.1698 - val_accuracy: 1.0000 - val_loss: 0.1958\n",
            "Epoch 18/20\n",
            "\u001b[1m11/11\u001b[0m \u001b[32m━━━━━━━━━━━━━━━━━━━━\u001b[0m\u001b[37m\u001b[0m \u001b[1m0s\u001b[0m 25ms/step - accuracy: 0.9814 - loss: 0.1634 - val_accuracy: 1.0000 - val_loss: 0.1839\n",
            "Epoch 19/20\n",
            "\u001b[1m11/11\u001b[0m \u001b[32m━━━━━━━━━━━━━━━━━━━━\u001b[0m\u001b[37m\u001b[0m \u001b[1m0s\u001b[0m 24ms/step - accuracy: 0.9900 - loss: 0.1541 - val_accuracy: 1.0000 - val_loss: 0.1713\n",
            "Epoch 20/20\n",
            "\u001b[1m11/11\u001b[0m \u001b[32m━━━━━━━━━━━━━━━━━━━━\u001b[0m\u001b[37m\u001b[0m \u001b[1m0s\u001b[0m 26ms/step - accuracy: 0.9875 - loss: 0.1330 - val_accuracy: 1.0000 - val_loss: 0.1614\n"
          ]
        }
      ]
    },
    {
      "cell_type": "markdown",
      "source": [
        "## **Step 8: Visualize Training Progress**\n",
        "Plot training and validation loss and accuracy.\n"
      ],
      "metadata": {
        "id": "WNRmR-AtnI05"
      }
    },
    {
      "cell_type": "code",
      "source": [
        "import matplotlib.pyplot as plt\n",
        "\n",
        "# Plot training and validation loss and accuracy\n",
        "plt.figure(figsize=(12, 5))\n",
        "\n",
        "# Loss\n",
        "plt.subplot(1, 2, 1)\n",
        "plt.plot(history.history['loss'], label='Training Loss')\n",
        "plt.plot(history.history['val_loss'], label='Validation Loss')\n",
        "plt.title('Model Loss per Epoch')\n",
        "plt.xlabel('Epochs')\n",
        "plt.ylabel('Loss')\n",
        "plt.legend()\n",
        "\n",
        "# Accuracy\n",
        "plt.subplot(1, 2, 2)\n",
        "plt.plot(history.history['accuracy'], label='Training Accuracy')\n",
        "plt.plot(history.history['val_accuracy'], label='Validation Accuracy')\n",
        "plt.title('Model Accuracy per Epoch')\n",
        "plt.xlabel('Epochs')\n",
        "plt.ylabel('Accuracy')\n",
        "plt.legend()"
      ],
      "metadata": {
        "colab": {
          "base_uri": "https://localhost:8080/",
          "height": 524
        },
        "id": "vRCU9n-JnFGU",
        "outputId": "3052f645-dcd4-464f-d474-0c9633859d1d"
      },
      "execution_count": 12,
      "outputs": [
        {
          "output_type": "execute_result",
          "data": {
            "text/plain": [
              "<matplotlib.legend.Legend at 0x7c019398ece0>"
            ]
          },
          "metadata": {},
          "execution_count": 12
        },
        {
          "output_type": "display_data",
          "data": {
            "text/plain": [
              "<Figure size 1200x500 with 2 Axes>"
            ],
            "image/png": "[encoded data removed]"
          },
          "metadata": {}
        }
      ]
    },
    {
      "cell_type": "markdown",
      "source": [
        "## **Step 9: Save the Model and Tokenizers**\n",
        "Save the trained model and tokenizers for later use."
      ],
      "metadata": {
        "id": "G_0yN9uunbuB"
      }
    },
    {
      "cell_type": "code",
      "source": [
        "# Save the model\n",
        "model.save(\"tf_model.h5\")\n",
        "\n",
        "# Save tokenizers\n",
        "with open(\"tokenizer_skill.json\", \"w\") as f:\n",
        "    f.write(tokenizer_skill.to_json())\n",
        "\n",
        "with open(\"tokenizer_regency.json\", \"w\") as f:\n",
        "    f.write(tokenizer_regency.to_json())\n"
      ],
      "metadata": {
        "colab": {
          "base_uri": "https://localhost:8080/"
        },
        "id": "qY0Vdu4inYZh",
        "outputId": "f6e17a47-8e8d-437d-ec82-78d2e7ed6bfd"
      },
      "execution_count": 13,
      "outputs": [
        {
          "output_type": "stream",
          "name": "stderr",
          "text": [
            "WARNING:absl:You are saving your model as an HDF5 file via `model.save()` or `keras.saving.save_model(model)`. This file format is considered legacy. We recommend using instead the native Keras format, e.g. `model.save('my_model.keras')` or `keras.saving.save_model(model, 'my_model.keras')`. \n"
          ]
        }
      ]
    },
    {
      "cell_type": "markdown",
      "source": [
        "## **Step 10: Generate Predictions**\n",
        "Use the model to generate text and predict top job offers."
      ],
      "metadata": {
        "id": "TreI1Iuznjuh"
      }
    },
    {
      "cell_type": "code",
      "source": [
        "# Function to generate text\n",
        "def generate_text(skill_seed, regency_seed, next_words):\n",
        "    for _ in range(next_words):\n",
        "        skill_seq = tokenizer_skill.texts_to_sequences([skill_seed])[0]\n",
        "        skill_seq = pad_sequences([skill_seq], maxlen=skill_max_len, padding='post')\n",
        "\n",
        "        regency_seq = tokenizer_regency.texts_to_sequences([regency_seed])[0]\n",
        "        regency_seq = pad_sequences([regency_seq], maxlen=regency_max_len, padding='post')\n",
        "\n",
        "        predicted = model.predict([skill_seq, regency_seq], verbose=0)\n",
        "        output_word = \"\"\n",
        "        for word, index in tokenizer_skill.word_index.items():\n",
        "            if index == np.argmax(predicted):\n",
        "                output_word = word\n",
        "                break\n",
        "\n",
        "        skill_seed += \" \" + output_word\n",
        "    return skill_seed\n",
        "\n",
        "# Function to predict top job offers\n",
        "def predict_top_job_offers(skill_seed, regency_seed):\n",
        "    skill_seq = tokenizer_skill.texts_to_sequences([skill_seed])[0]\n",
        "    skill_seq = pad_sequences([skill_seq], maxlen=skill_max_len, padding='post')\n",
        "\n",
        "    regency_seq = tokenizer_regency.texts_to_sequences([regency_seed])[0]\n",
        "    regency_seq = pad_sequences([regency_seq], maxlen=regency_max_len, padding='post')\n",
        "\n",
        "    predicted = model.predict([skill_seq, regency_seq], verbose=0)\n",
        "    top_indices = np.argsort(predicted[0])[::-1]\n",
        "\n",
        "    # Prioritize by regency, then match top skills\n",
        "    filtered_df = df[df['regency'] == regency_seed]\n",
        "    top_job_offers = []\n",
        "\n",
        "    for predicted_index in top_indices:\n",
        "        for idx, row in filtered_df.iterrows():\n",
        "            skill_sequence = tokenizer_skill.texts_to_sequences([row['skills']])[0]\n",
        "            if len(skill_sequence) > 0 and skill_sequence[-1] == predicted_index:\n",
        "                if all(word in row['skills'] for word in skill_seed.split()):\n",
        "                    top_job_offers.append({\n",
        "                        \"id_job_offer\": row['id_job_offer'],\n",
        "                        \"company_name\": row['name_company'],\n",
        "                        \"position\": row['position'],\n",
        "                        \"required_skills\": row['req_skill']\n",
        "                    })\n",
        "                    if len(top_job_offers) == 10:\n",
        "                        return top_job_offers\n",
        "\n",
        "    return top_job_offers"
      ],
      "metadata": {
        "id": "gwMLuY98nga3"
      },
      "execution_count": 14,
      "outputs": []
    },
    {
      "cell_type": "markdown",
      "source": [
        "## **Step 11: Test the Model**\n",
        "Test the model with example data."
      ],
      "metadata": {
        "id": "gztdToeknoo6"
      }
    },
    {
      "cell_type": "code",
      "source": [
        "seed_skill = \"Figma Adobe XD\"\n",
        "seed_regency = \"Denpasar\"\n",
        "generated_text = generate_text(seed_skill, seed_regency, next_words=10)\n",
        "top_job_offers = predict_top_job_offers(seed_skill, seed_regency)\n",
        "\n",
        "print(\"Generated Text:\", generated_text)\n",
        "print(\"Top 10 Predicted Job Offers:\")\n",
        "for offer in top_job_offers:\n",
        "    print(f\"ID: {offer['id_job_offer']}, Company: {offer['company_name']}, Position: {offer['position']}, Skills: {offer['required_skills']}\")"
      ],
      "metadata": {
        "colab": {
          "base_uri": "https://localhost:8080/"
        },
        "id": "v5wlukQfnsA2",
        "outputId": "de2f7382-09b9-4ffe-adaf-26efdc122b7c"
      },
      "execution_count": 15,
      "outputs": [
        {
          "output_type": "stream",
          "name": "stdout",
          "text": [
            "Generated Text: Figma Adobe XD bootstrap bootstrap bootstrap bootstrap sql sql theory theory theory theory\n",
            "Top 10 Predicted Job Offers:\n",
            "ID: 21, Company: PT Nusantara Teknologi, Position: UI/UX Designer, Skills: Figma , Adobe XD , Sketch, HTML , CSS , Typography , Color Theory\n",
            "ID: 225, Company: PT Sinar Sukses, Position: UI/UX Designer, Skills: Figma , Adobe XD , Sketch, HTML , CSS , Typography , Color Theory\n",
            "ID: 298, Company: PT Sukses Makmur, Position: UI/UX Designer, Skills: Figma , Adobe XD , Sketch, HTML , CSS , Typography , Color Theory\n",
            "ID: 471, Company: PT Gemilang Bersama, Position: UI/UX Designer, Skills: Figma , Adobe XD , Sketch, HTML , CSS , Typography , Color Theory\n",
            "ID: 603, Company: PT Prima Industri, Position: UI/UX Designer, Skills: Figma , Adobe XD , Sketch, HTML , CSS , Typography , Color Theory\n",
            "ID: 624, Company: PT Harapan Sejahtera, Position: UI/UX Designer, Skills: Figma , Adobe XD , Sketch, HTML , CSS , Typography , Color Theory\n",
            "ID: 804, Company: PT Jaya Mulya, Position: UI/UX Designer, Skills: Figma , Adobe XD , Sketch, HTML , CSS , Typography , Color Theory\n"
          ]
        }
      ]
    }
  ]
}